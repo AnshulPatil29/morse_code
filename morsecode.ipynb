{
 "cells": [
  {
   "cell_type": "code",
   "execution_count": 1,
   "metadata": {},
   "outputs": [],
   "source": [
    "def text_to_morse(text):\n",
    "    \"\"\"\n",
    "    Converts a given string into Morse code.\n",
    "\n",
    "    Args:\n",
    "        text (str): The input string to convert.\n",
    "\n",
    "    Returns:\n",
    "        str: The Morse code representation of the input string.\n",
    "    \"\"\"\n",
    "    morse_code_dict = {\n",
    "        'A': '.-',\n",
    "        'B': '-...',\n",
    "        'C': '-.-.',\n",
    "        'D': '-..',\n",
    "        'E': '.',\n",
    "        'F': '..-.',\n",
    "        'G': '--.',\n",
    "        'H': '....',\n",
    "        'I': '..',\n",
    "        'J': '.---',\n",
    "        'K': '-.-',\n",
    "        'L': '.-..',\n",
    "        'M': '--',\n",
    "        'N': '-.',\n",
    "        'O': '---',\n",
    "        'P': '.--.',\n",
    "        'Q': '--.-',\n",
    "        'R': '.-.',\n",
    "        'S': '...',\n",
    "        'T': '-',\n",
    "        'U': '..-',\n",
    "        'V': '...-',\n",
    "        'W': '.--',\n",
    "        'X': '-..-',\n",
    "        'Y': '-.--',\n",
    "        'Z': '--..',\n",
    "        '1': '.----',\n",
    "        '2': '..---',\n",
    "        '3': '...--',\n",
    "        '4': '....-',\n",
    "        '5': '.....',\n",
    "        '6': '-....',\n",
    "        '7': '--...',\n",
    "        '8': '---..',\n",
    "        '9': '----.',\n",
    "        '0': '-----',\n",
    "        ',': '--..--',\n",
    "        '.': '.-.-.-',\n",
    "        '?': '..--..',\n",
    "        \"'\": '.----.',\n",
    "        '!': '-.-.--',\n",
    "        '/': '-..-.',\n",
    "        '(': '-.--.',\n",
    "        ')': '-.--.-',\n",
    "        '&': '.-...',\n",
    "        ':': '---...',\n",
    "        ';': '-.-.-.',\n",
    "        '=': '-...-',\n",
    "        '+': '.-.-.',\n",
    "        '-': '-....-',\n",
    "        '_': '..--.-',\n",
    "        '\"': '.-..-.',\n",
    "        '$': '...-..-',\n",
    "        '@': '.--.-.',\n",
    "        ' ': '/'\n",
    "    }\n",
    "    text = text.upper()\n",
    "    morse_code = ' '.join(morse_code_dict[char] for char in text if char in morse_code_dict)\n",
    "    return morse_code"
   ]
  },
  {
   "cell_type": "code",
   "execution_count": 2,
   "metadata": {},
   "outputs": [
    {
     "data": {
      "text/plain": [
       "'.- .--. .--. .-.. .'"
      ]
     },
     "execution_count": 2,
     "metadata": {},
     "output_type": "execute_result"
    }
   ],
   "source": [
    "text_to_morse(\"apple\")"
   ]
  },
  {
   "cell_type": "code",
   "execution_count": 3,
   "metadata": {},
   "outputs": [],
   "source": [
    "import numpy as np\n",
    "from scipy.io.wavfile import write"
   ]
  },
  {
   "cell_type": "code",
   "execution_count": 4,
   "metadata": {},
   "outputs": [],
   "source": [
    "def generate_sine_wave(frequency, duration, sample_rate=44100,amplitude=0.5):\n",
    "    \"\"\"\n",
    "    Generate sine wave\n",
    "    \"\"\"\n",
    "    time= np.linspace(0,duration,int(duration*sample_rate),endpoint=False)\n",
    "    return np.sin(2 * np.pi * frequency * time)\n",
    "def generate_silence(duration, sample_rate):\n",
    "    \"\"\"\n",
    "    Generate silence for a given duration.\n",
    "    \"\"\"\n",
    "    return np.zeros(int(sample_rate * duration))\n",
    "\n"
   ]
  },
  {
   "cell_type": "code",
   "execution_count": 5,
   "metadata": {},
   "outputs": [],
   "source": [
    "sample_rate = 44100  \n",
    "dot_duration = 0.1  \n",
    "dash_duration = dot_duration * 3\n",
    "space_duration = dot_duration  # 1 unit\n",
    "frequency = 750  \n",
    "amplitude = 0.5  \n",
    "\n",
    "# I am adding a 1 unit (0.2 sec) silence after every dot and dash\n",
    "# So whenever a character ends I am appending 2 unit and 6 units when word ends\n",
    "\n",
    "unit_space=generate_silence(space_duration,sample_rate)\n",
    "dot = np.concatenate([generate_sine_wave(frequency, dot_duration, sample_rate, amplitude),unit_space])\n",
    "dash = np.concatenate([generate_sine_wave(frequency, dash_duration, sample_rate, amplitude),unit_space])\n",
    "character_space=generate_silence(space_duration*2,sample_rate)\n",
    "word_space=generate_silence(space_duration*6,sample_rate)\n",
    "\n",
    "sound_wave_dictionaries={\n",
    "    \".\":dot,\n",
    "    \"-\":dash,\n",
    "    \" \":character_space,\n",
    "    \"/\":word_space\n",
    "        }"
   ]
  },
  {
   "cell_type": "code",
   "execution_count": 6,
   "metadata": {},
   "outputs": [],
   "source": [
    "def getMorseSound(text:str):\n",
    "    \"\"\"\n",
    "    Converts text into morse code sound signal normalized to 16-bit PCM(pulse code modulation) range\n",
    "\n",
    "    Returns: numpy array of concatenated sound signal with sample rate 44100\n",
    "    \"\"\"\n",
    "    morse_code=text_to_morse(text)\n",
    "    sound=np.concatenate([sound_wave_dictionaries[symbol] for symbol in morse_code])\n",
    "    return np.int16(sound/np.max(np.abs(sound))*(2**15 -1))"
   ]
  },
  {
   "cell_type": "code",
   "execution_count": 7,
   "metadata": {},
   "outputs": [],
   "source": [
    "sample_text=\"Apple\"\n"
   ]
  },
  {
   "cell_type": "code",
   "execution_count": 8,
   "metadata": {},
   "outputs": [],
   "source": [
    "sound=getMorseSound(sample_text)"
   ]
  },
  {
   "cell_type": "code",
   "execution_count": 9,
   "metadata": {},
   "outputs": [],
   "source": [
    "import sounddevice as sd\n",
    "\n",
    "sd.play(sound, samplerate=44100)\n",
    "sd.wait()\n"
   ]
  },
  {
   "cell_type": "code",
   "execution_count": 10,
   "metadata": {},
   "outputs": [],
   "source": [
    "write('morse_code.wav', 44100, sound)"
   ]
  }
 ],
 "metadata": {
  "kernelspec": {
   "display_name": "base",
   "language": "python",
   "name": "python3"
  },
  "language_info": {
   "codemirror_mode": {
    "name": "ipython",
    "version": 3
   },
   "file_extension": ".py",
   "mimetype": "text/x-python",
   "name": "python",
   "nbconvert_exporter": "python",
   "pygments_lexer": "ipython3",
   "version": "3.11.9"
  }
 },
 "nbformat": 4,
 "nbformat_minor": 2
}
